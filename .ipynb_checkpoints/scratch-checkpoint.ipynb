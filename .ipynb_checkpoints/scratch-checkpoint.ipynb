{
 "cells": [
  {
   "cell_type": "code",
   "execution_count": 4,
   "id": "dc162cb2-8083-4e2b-9358-a7c4c95a10f0",
   "metadata": {},
   "outputs": [],
   "source": [
    "import numpy as np"
   ]
  },
  {
   "cell_type": "code",
   "execution_count": 5,
   "id": "65d8d1d2-e41a-4c15-9490-07b6811a6324",
   "metadata": {},
   "outputs": [
    {
     "data": {
      "text/plain": [
       "array([[0.16601191, 0.9288838 , 0.8867101 , 0.570685  , 0.9893705 ],\n",
       "       [0.7998941 , 0.83421206, 0.63151354, 0.24738553, 0.92271966],\n",
       "       [0.72419375, 0.01712473, 0.79759264, 0.57715386, 0.20709808],\n",
       "       [0.77255213, 0.48795596, 0.46905077, 0.8388901 , 0.06091749],\n",
       "       [0.09542359, 0.735022  , 0.92294884, 0.8200013 , 0.228211  ],\n",
       "       [0.21848772, 0.356739  , 0.09745716, 0.5412888 , 0.81855017],\n",
       "       [0.4219666 , 0.88009745, 0.4298312 , 0.3623919 , 0.47542265]],\n",
       "      dtype=float32)"
      ]
     },
     "execution_count": 5,
     "metadata": {},
     "output_type": "execute_result"
    }
   ],
   "source": [
    "w_mat = np.random.rand(7,5).astype(np.float32)\n",
    "np.save(\"random_array\",w_mat)\n",
    "w_mat"
   ]
  },
  {
   "cell_type": "code",
   "execution_count": 9,
   "id": "15902a1c-d80d-488f-a521-f3211dfdc271",
   "metadata": {},
   "outputs": [
    {
     "data": {
      "text/plain": [
       "array([0.49661905, 0.97155315, 0.63417745, 0.24273114, 0.32223603],\n",
       "      dtype=float32)"
      ]
     },
     "execution_count": 9,
     "metadata": {},
     "output_type": "execute_result"
    }
   ],
   "source": [
    "i_vec = np.random.rand(5).astype(np.float32)\n",
    "np.save(\"random_input\",i_vec)\n",
    "i_vec"
   ]
  },
  {
   "cell_type": "code",
   "execution_count": 11,
   "id": "e912354d-d1b9-48a4-8189-2fd6630c4253",
   "metadata": {},
   "outputs": [
    {
     "data": {
      "text/plain": [
       "array([2.0045702, 1.9655973, 1.0889289, 1.3784553, 1.6193931, 0.9120552,\n",
       "       1.5783695], dtype=float32)"
      ]
     },
     "execution_count": 11,
     "metadata": {},
     "output_type": "execute_result"
    }
   ],
   "source": [
    "np.matmul(w_mat, i_vec)"
   ]
  },
  {
   "cell_type": "code",
   "execution_count": 13,
   "id": "922e8ff8-b101-4a8b-8a80-76fe3441276a",
   "metadata": {},
   "outputs": [
    {
     "data": {
      "text/plain": [
       "array([2.0045702, 1.9655973, 1.0889289, 1.3784553, 1.6193931, 0.9120552,\n",
       "       1.5783695], dtype=float32)"
      ]
     },
     "execution_count": 13,
     "metadata": {},
     "output_type": "execute_result"
    }
   ],
   "source": [
    "np.dot(w_mat, i_vec)"
   ]
  },
  {
   "cell_type": "code",
   "execution_count": 15,
   "id": "793b9325-a048-41c1-b0a9-1cf7cd88ef64",
   "metadata": {},
   "outputs": [
    {
     "data": {
      "text/plain": [
       "array([[0.6282603 , 0.72267115, 0.53353035],\n",
       "       [0.8249808 , 0.66408557, 0.9992254 ],\n",
       "       [0.252288  , 0.7899336 , 0.00900604],\n",
       "       [0.37041226, 0.12004582, 0.39620808],\n",
       "       [0.08178413, 0.8886343 , 0.24679442]], dtype=float32)"
      ]
     },
     "execution_count": 15,
     "metadata": {},
     "output_type": "execute_result"
    }
   ],
   "source": [
    "i_mat = np.random.rand(5,3).astype(np.float32)\n",
    "np.save(\"random_input_mat\",i_mat)\n",
    "i_mat"
   ]
  },
  {
   "cell_type": "code",
   "execution_count": null,
   "id": "b7b19004-ee3a-4716-ba3a-83a2f8532a5d",
   "metadata": {},
   "outputs": [],
   "source": []
  },
  {
   "cell_type": "code",
   "execution_count": null,
   "id": "0d8312d2-0a33-4026-b93b-f4d92cbeeb87",
   "metadata": {},
   "outputs": [],
   "source": []
  },
  {
   "cell_type": "code",
   "execution_count": null,
   "id": "eb6349d7-0685-4093-81e0-f6fb6405bf9f",
   "metadata": {},
   "outputs": [],
   "source": []
  },
  {
   "cell_type": "code",
   "execution_count": 2,
   "id": "ac890979-3715-4349-a8d4-3cb003544b11",
   "metadata": {},
   "outputs": [],
   "source": [
    "import numpy as np\n",
    "a = np.array([[1,2],[3,4]])\n",
    "b = np.array([[5,6],[7,8]])\n"
   ]
  },
  {
   "cell_type": "code",
   "execution_count": 3,
   "id": "56bf3f60-28a3-4c84-8d8e-059d18e32589",
   "metadata": {},
   "outputs": [],
   "source": [
    "c = np.matmul(a,b)"
   ]
  },
  {
   "cell_type": "code",
   "execution_count": 4,
   "id": "6c2c4c45-1224-46ea-9d6e-d1d0472f2f9c",
   "metadata": {},
   "outputs": [
    {
     "data": {
      "text/plain": [
       "array([[19, 22],\n",
       "       [43, 50]])"
      ]
     },
     "execution_count": 4,
     "metadata": {},
     "output_type": "execute_result"
    }
   ],
   "source": [
    "c"
   ]
  },
  {
   "cell_type": "code",
   "execution_count": 7,
   "id": "5df536d6-93b7-420c-8a23-5ff44ca1f0b2",
   "metadata": {},
   "outputs": [],
   "source": [
    "x = np.array([[0,1,2,3],\n",
    "             [4,5,6,7],\n",
    "             [8,9,10,11]])\n",
    "\n",
    "y = np.array([[4,5,6,7,6],\n",
    "             [0,1,2,3,1],\n",
    "             [8,9,10,11,5],\n",
    "             [0,1,2,3,9]])"
   ]
  },
  {
   "cell_type": "code",
   "execution_count": 9,
   "id": "1fe81409-96de-4cf9-834d-832df0b5c1bf",
   "metadata": {},
   "outputs": [
    {
     "data": {
      "text/plain": [
       "array([[ 16,  22,  28,  34,  38],\n",
       "       [ 64,  86, 108, 130, 122],\n",
       "       [112, 150, 188, 226, 206]])"
      ]
     },
     "execution_count": 9,
     "metadata": {},
     "output_type": "execute_result"
    }
   ],
   "source": [
    "z = np.matmul(x,y)\n",
    "z"
   ]
  },
  {
   "cell_type": "code",
   "execution_count": 16,
   "id": "afa6d87d-edda-4ad8-8660-6d031f69ed5d",
   "metadata": {},
   "outputs": [],
   "source": [
    "x = np.random.rand(3,2).astype(np.float32)"
   ]
  },
  {
   "cell_type": "code",
   "execution_count": 19,
   "id": "41324fad-4f82-4d77-a3c9-020a36eaa554",
   "metadata": {},
   "outputs": [],
   "source": []
  },
  {
   "cell_type": "code",
   "execution_count": 20,
   "id": "d395dba0-d6f9-4cd6-bb64-14ae44477a43",
   "metadata": {},
   "outputs": [
    {
     "data": {
      "text/plain": [
       "array([[0.42749733, 0.8808444 ],\n",
       "       [0.26772526, 0.82321244],\n",
       "       [0.7371687 , 0.2820774 ]], dtype=float32)"
      ]
     },
     "execution_count": 20,
     "metadata": {},
     "output_type": "execute_result"
    }
   ],
   "source": [
    "x"
   ]
  },
  {
   "cell_type": "code",
   "execution_count": null,
   "id": "fd5f0182-e7a7-4b2a-af95-ce74ae0eef31",
   "metadata": {},
   "outputs": [],
   "source": []
  }
 ],
 "metadata": {
  "kernelspec": {
   "display_name": "Python 3",
   "language": "python",
   "name": "python3"
  },
  "language_info": {
   "codemirror_mode": {
    "name": "ipython",
    "version": 3
   },
   "file_extension": ".py",
   "mimetype": "text/x-python",
   "name": "python",
   "nbconvert_exporter": "python",
   "pygments_lexer": "ipython3",
   "version": "3.6.9"
  }
 },
 "nbformat": 4,
 "nbformat_minor": 5
}
